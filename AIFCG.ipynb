{
  "nbformat": 4,
  "nbformat_minor": 0,
  "metadata": {
    "colab": {
      "provenance": [],
      "authorship_tag": "ABX9TyPVIbiYnVmcGZAZy/8g7PRA",
      "include_colab_link": true
    },
    "kernelspec": {
      "name": "python3",
      "display_name": "Python 3"
    },
    "language_info": {
      "name": "python"
    }
  },
  "cells": [
    {
      "cell_type": "markdown",
      "metadata": {
        "id": "view-in-github",
        "colab_type": "text"
      },
      "source": [
        "<a href=\"https://colab.research.google.com/github/AdityaZade/AdityaZade/blob/master/AIFCG.ipynb\" target=\"_parent\"><img src=\"https://colab.research.google.com/assets/colab-badge.svg\" alt=\"Open In Colab\"/></a>"
      ]
    },
    {
      "cell_type": "markdown",
      "source": [
        "\n",
        "\n",
        "```\n",
        "# **AUTOMATIC IMPLEMENTATION FILES CODE GENERATOR**:\\\n",
        "\n",
        "---\n",
        "\n",
        "\n",
        "```\n",
        "\n"
      ],
      "metadata": {
        "id": "kTODmtgGHpmA"
      }
    },
    {
      "cell_type": "markdown",
      "source": [
        "STEP 1:  Enter the csv file and extract its header.\n"
      ],
      "metadata": {
        "id": "nXetfFIbHT8U"
      }
    },
    {
      "cell_type": "code",
      "source": [
        "from google.colab import files\n",
        "uploaded = files.upload()"
      ],
      "metadata": {
        "colab": {
          "base_uri": "https://localhost:8080/",
          "height": 73
        },
        "id": "zMuxZf6NIRGi",
        "outputId": "8cb1e552-1575-44b0-dbc4-9cafb1864096"
      },
      "execution_count": 9,
      "outputs": [
        {
          "output_type": "display_data",
          "data": {
            "text/plain": [
              "<IPython.core.display.HTML object>"
            ],
            "text/html": [
              "\n",
              "     <input type=\"file\" id=\"files-736ebe3e-15c6-4040-9db9-261b84d72d6f\" name=\"files[]\" multiple disabled\n",
              "        style=\"border:none\" />\n",
              "     <output id=\"result-736ebe3e-15c6-4040-9db9-261b84d72d6f\">\n",
              "      Upload widget is only available when the cell has been executed in the\n",
              "      current browser session. Please rerun this cell to enable.\n",
              "      </output>\n",
              "      <script>// Copyright 2017 Google LLC\n",
              "//\n",
              "// Licensed under the Apache License, Version 2.0 (the \"License\");\n",
              "// you may not use this file except in compliance with the License.\n",
              "// You may obtain a copy of the License at\n",
              "//\n",
              "//      http://www.apache.org/licenses/LICENSE-2.0\n",
              "//\n",
              "// Unless required by applicable law or agreed to in writing, software\n",
              "// distributed under the License is distributed on an \"AS IS\" BASIS,\n",
              "// WITHOUT WARRANTIES OR CONDITIONS OF ANY KIND, either express or implied.\n",
              "// See the License for the specific language governing permissions and\n",
              "// limitations under the License.\n",
              "\n",
              "/**\n",
              " * @fileoverview Helpers for google.colab Python module.\n",
              " */\n",
              "(function(scope) {\n",
              "function span(text, styleAttributes = {}) {\n",
              "  const element = document.createElement('span');\n",
              "  element.textContent = text;\n",
              "  for (const key of Object.keys(styleAttributes)) {\n",
              "    element.style[key] = styleAttributes[key];\n",
              "  }\n",
              "  return element;\n",
              "}\n",
              "\n",
              "// Max number of bytes which will be uploaded at a time.\n",
              "const MAX_PAYLOAD_SIZE = 100 * 1024;\n",
              "\n",
              "function _uploadFiles(inputId, outputId) {\n",
              "  const steps = uploadFilesStep(inputId, outputId);\n",
              "  const outputElement = document.getElementById(outputId);\n",
              "  // Cache steps on the outputElement to make it available for the next call\n",
              "  // to uploadFilesContinue from Python.\n",
              "  outputElement.steps = steps;\n",
              "\n",
              "  return _uploadFilesContinue(outputId);\n",
              "}\n",
              "\n",
              "// This is roughly an async generator (not supported in the browser yet),\n",
              "// where there are multiple asynchronous steps and the Python side is going\n",
              "// to poll for completion of each step.\n",
              "// This uses a Promise to block the python side on completion of each step,\n",
              "// then passes the result of the previous step as the input to the next step.\n",
              "function _uploadFilesContinue(outputId) {\n",
              "  const outputElement = document.getElementById(outputId);\n",
              "  const steps = outputElement.steps;\n",
              "\n",
              "  const next = steps.next(outputElement.lastPromiseValue);\n",
              "  return Promise.resolve(next.value.promise).then((value) => {\n",
              "    // Cache the last promise value to make it available to the next\n",
              "    // step of the generator.\n",
              "    outputElement.lastPromiseValue = value;\n",
              "    return next.value.response;\n",
              "  });\n",
              "}\n",
              "\n",
              "/**\n",
              " * Generator function which is called between each async step of the upload\n",
              " * process.\n",
              " * @param {string} inputId Element ID of the input file picker element.\n",
              " * @param {string} outputId Element ID of the output display.\n",
              " * @return {!Iterable<!Object>} Iterable of next steps.\n",
              " */\n",
              "function* uploadFilesStep(inputId, outputId) {\n",
              "  const inputElement = document.getElementById(inputId);\n",
              "  inputElement.disabled = false;\n",
              "\n",
              "  const outputElement = document.getElementById(outputId);\n",
              "  outputElement.innerHTML = '';\n",
              "\n",
              "  const pickedPromise = new Promise((resolve) => {\n",
              "    inputElement.addEventListener('change', (e) => {\n",
              "      resolve(e.target.files);\n",
              "    });\n",
              "  });\n",
              "\n",
              "  const cancel = document.createElement('button');\n",
              "  inputElement.parentElement.appendChild(cancel);\n",
              "  cancel.textContent = 'Cancel upload';\n",
              "  const cancelPromise = new Promise((resolve) => {\n",
              "    cancel.onclick = () => {\n",
              "      resolve(null);\n",
              "    };\n",
              "  });\n",
              "\n",
              "  // Wait for the user to pick the files.\n",
              "  const files = yield {\n",
              "    promise: Promise.race([pickedPromise, cancelPromise]),\n",
              "    response: {\n",
              "      action: 'starting',\n",
              "    }\n",
              "  };\n",
              "\n",
              "  cancel.remove();\n",
              "\n",
              "  // Disable the input element since further picks are not allowed.\n",
              "  inputElement.disabled = true;\n",
              "\n",
              "  if (!files) {\n",
              "    return {\n",
              "      response: {\n",
              "        action: 'complete',\n",
              "      }\n",
              "    };\n",
              "  }\n",
              "\n",
              "  for (const file of files) {\n",
              "    const li = document.createElement('li');\n",
              "    li.append(span(file.name, {fontWeight: 'bold'}));\n",
              "    li.append(span(\n",
              "        `(${file.type || 'n/a'}) - ${file.size} bytes, ` +\n",
              "        `last modified: ${\n",
              "            file.lastModifiedDate ? file.lastModifiedDate.toLocaleDateString() :\n",
              "                                    'n/a'} - `));\n",
              "    const percent = span('0% done');\n",
              "    li.appendChild(percent);\n",
              "\n",
              "    outputElement.appendChild(li);\n",
              "\n",
              "    const fileDataPromise = new Promise((resolve) => {\n",
              "      const reader = new FileReader();\n",
              "      reader.onload = (e) => {\n",
              "        resolve(e.target.result);\n",
              "      };\n",
              "      reader.readAsArrayBuffer(file);\n",
              "    });\n",
              "    // Wait for the data to be ready.\n",
              "    let fileData = yield {\n",
              "      promise: fileDataPromise,\n",
              "      response: {\n",
              "        action: 'continue',\n",
              "      }\n",
              "    };\n",
              "\n",
              "    // Use a chunked sending to avoid message size limits. See b/62115660.\n",
              "    let position = 0;\n",
              "    do {\n",
              "      const length = Math.min(fileData.byteLength - position, MAX_PAYLOAD_SIZE);\n",
              "      const chunk = new Uint8Array(fileData, position, length);\n",
              "      position += length;\n",
              "\n",
              "      const base64 = btoa(String.fromCharCode.apply(null, chunk));\n",
              "      yield {\n",
              "        response: {\n",
              "          action: 'append',\n",
              "          file: file.name,\n",
              "          data: base64,\n",
              "        },\n",
              "      };\n",
              "\n",
              "      let percentDone = fileData.byteLength === 0 ?\n",
              "          100 :\n",
              "          Math.round((position / fileData.byteLength) * 100);\n",
              "      percent.textContent = `${percentDone}% done`;\n",
              "\n",
              "    } while (position < fileData.byteLength);\n",
              "  }\n",
              "\n",
              "  // All done.\n",
              "  yield {\n",
              "    response: {\n",
              "      action: 'complete',\n",
              "    }\n",
              "  };\n",
              "}\n",
              "\n",
              "scope.google = scope.google || {};\n",
              "scope.google.colab = scope.google.colab || {};\n",
              "scope.google.colab._files = {\n",
              "  _uploadFiles,\n",
              "  _uploadFilesContinue,\n",
              "};\n",
              "})(self);\n",
              "</script> "
            ]
          },
          "metadata": {}
        },
        {
          "output_type": "stream",
          "name": "stdout",
          "text": [
            "Saving PRODUCT_TYPE.csv to PRODUCT_TYPE.csv\n"
          ]
        }
      ]
    },
    {
      "cell_type": "code",
      "source": [
        "from numpy import little_endian\n",
        "import pandas as pd\n",
        "import io\n",
        "#Enter the filename which is uploaded\n",
        "data = pd.read_csv(io.BytesIO(uploaded['PRODUCT_TYPE.csv']))\n",
        "lst = list(data.columns)\n",
        "# for item in range(len(lst)):\n",
        "#    print(lst[item])\n",
        "for item in range(len(lst)):\n",
        "    print(lst[item]+\" VARCHAR(100),\")\n",
        "    if item == len(lst)-1:\n",
        "       print(lst[item]+\" VARCHAR(100)\") \n"
      ],
      "metadata": {
        "colab": {
          "base_uri": "https://localhost:8080/"
        },
        "id": "XElusUU4Ifg9",
        "outputId": "a151c636-be3f-4538-f028-a68933eefde0"
      },
      "execution_count": 10,
      "outputs": [
        {
          "output_type": "stream",
          "name": "stdout",
          "text": [
            "PRODUCT_TYPE_CD VARCHAR(100),\n",
            "PRODUCT_TYPE_DESC VARCHAR(100),\n",
            "PRODUCT_TYPE_DESC VARCHAR(100)\n"
          ]
        }
      ]
    },
    {
      "cell_type": "code",
      "source": [
        "staging_table_name = \"ECOI_STG_PRODUCT_TYPE\"\n",
        "index_col_name =\"PRODUCT_TYPE_CD\"\n",
        "\n",
        "print(\"THIS YOUR SCHEMA.XML\")\n",
        "print(\"-----------------------------------------------------------------------------------------\")\n",
        "\n",
        "print(\"<ddl name=\"+'\"' + str(staging_table_name) + '\"'+ \" type=\" +'\"'+\"table\"+'\"'+ \" execute=\"+'\"'+\"true\"+'\"'+ \" truncate=\"+'\"'+\"true\"+'\"'+\" dymanicFieldsPresentInQuery=\"+'\"'+\"false\"+'\"'+\">\")\n",
        "print(\"CREATE TABLE \"+staging_table_name)\n",
        "print(\"(\")\n",
        "print(\"FILE_NAME VARCHAR(50),\")\n",
        "print(\"ROW_NUM INT,\")\n",
        "for item in range(len(lst)):\n",
        "    print(lst[item]+\" VARCHAR(100),\")\n",
        "    if item == len(lst)-1:\n",
        "       print(lst[item]+\" VARCHAR(100)\")\n",
        "print(\"CREATE INDEX \"+ \"IDX_\"+staging_table_name + \" on \" +staging_table_name+\"(\"+index_col_name+\")\")\n",
        "print(\")\")\n",
        "print(\"<ddl>\")"
      ],
      "metadata": {
        "colab": {
          "base_uri": "https://localhost:8080/"
        },
        "id": "j80FOutlxs0S",
        "outputId": "491a3d1d-b64a-4e9b-eae1-340c7ba82e63"
      },
      "execution_count": 11,
      "outputs": [
        {
          "output_type": "stream",
          "name": "stdout",
          "text": [
            "THIS YOUR SCHEMA.XML\n",
            "-----------------------------------------------------------------------------------------\n",
            "<ddl name=\"ECOI_STG_PRODUCT_TYPE\" type=\"table\" execute=\"true\" truncate=\"true\" dymanicFieldsPresentInQuery=\"false\">\n",
            "CREATE TABLE ECOI_STG_PRODUCT_TYPE\n",
            "(\n",
            "FILE_NAME VARCHAR(50),\n",
            "ROW_NUM INT,\n",
            "PRODUCT_TYPE_CD VARCHAR(100),\n",
            "PRODUCT_TYPE_DESC VARCHAR(100),\n",
            "PRODUCT_TYPE_DESC VARCHAR(100)\n",
            "CREATE INDEX IDX_ECOI_STG_PRODUCT_TYPE on ECOI_STG_PRODUCT_TYPE(PRODUCT_TYPE_CD)\n",
            ")\n",
            "<ddl>\n"
          ]
        }
      ]
    },
    {
      "cell_type": "code",
      "source": [
        "feed_name =\"PRODUCT_TYPE.csv\"\n",
        "\n",
        "print(\"This is TRANSFORM.XML\")\n",
        "print(\"---------------------------------------------------------------------------------------------\")\n",
        "\n",
        "print(\"<file name=\"+'\"' + str(feed_name) + '\"'+ \" type=\" +'\"'+\"delimited\"+'\"'+ \" src=\"+'\"'+\"Data/Input/SP/\"+'\"'+ \" headersToSkip=\"+'\"'+\"1\"+'\"'+ \" footersToSkip=\"+'\"'+\"0\"+'\"'+ \" delimeter=\"+'\"'+\",\"+'\"'+ \" mandatory=\"+'\"'+\"1\"+'\"'+ \" headersToSkip=\"+'\"'+\"1\"+'\"'+\" recordLength=\"+'\"'+\"5000\"+'\"'+\">\")\n",
        "print(\"<inputs>\")\n",
        "print(\"<input>\")\t\n",
        "print(\"<target type=\"+'\"'+ \" type=\" +'\"'+\"table\"+'\"'+\">\"+feed_name+\"</target>\")\n",
        "print(\"<pattern></pattern>\")\n",
        "print(\"<records>\")\n",
        "\n",
        "for index,item in enumerate (range(len(lst)),start=1):\n",
        "  print(\"<record id=\"+\"\\\"\"+lst[item]+\"\\\"\"+\" index=\"+\"\\\"\"+str(index-1)+\"\\\"\"+\"/>\")\n",
        "\n",
        "print(\"</records>\")\n",
        "print(\"</input>\")\n",
        "print(\"<inputs>\")\n",
        "print(\"</file>\")\n"
      ],
      "metadata": {
        "colab": {
          "base_uri": "https://localhost:8080/"
        },
        "id": "wW_m0Fqoh5Br",
        "outputId": "1c02e21b-454a-4a2e-97a9-0047b6c07a7a"
      },
      "execution_count": 12,
      "outputs": [
        {
          "output_type": "stream",
          "name": "stdout",
          "text": [
            "<file name=\"PRODUCT_TYPE.csv\" type=\"delimited\" src=\"Data/Input/SP/\" headersToSkip=\"1\" footersToSkip=\"0\" delimeter=\",\" mandatory=\"1\" headersToSkip=\"1\" recordLength=\"5000\">\n",
            "<inputs>\n",
            "<input>\n",
            "<target type=\" type=\"table\">PRODUCT_TYPE.csv</target>\n",
            "<pattern></pattern>\n",
            "<records>\n",
            "<record id=\"PRODUCT_TYPE_CD\" index=\"0\"/>\n",
            "<record id=\"PRODUCT_TYPE_DESC\" index=\"1\"/>\n",
            "</records>\n",
            "</input>\n",
            "<inputs>\n",
            "</file>\n"
          ]
        }
      ]
    },
    {
      "cell_type": "code",
      "source": [
        "staging_table_name =\"ECOI_STG_PRODUCT_TYPE_CD\"\n",
        "destination_table_name =\"etm_md_product_type_cd\"\n",
        "src =\"SOURCE.\"\n",
        "\n",
        "\n",
        " print(\"/* Start merge statement for\"+destination_table_name+\"*/\")\n",
        "\n",
        "print(\"INSERT INTO ECOI_ETL_LOGS(TABLE_NAME, START_DATE_TIME,NUMBER_OF_RECORDS) VALUES(\"+ '\"'+ destination_table_name +'\"'+\" , GETDATE(), (SELECT MAX(ROW_NUM) FROM \"+staging_table_name+\"));\")\n",
        "\n",
        " print(\" MERGE \"+destination_table_name +\"AS TARGET\")   \n",
        " print(\"USING \"+staging_table_name+\" AS SOURCE\") \n",
        " print(\"ON (SOURCE.ACCOUNT_BROKER_FIRM_CODE = TARGET.account_broker_firm_code )\")\n",
        " print(\"WHEN NOT MATCHED BY TARGET\")      \n",
        " print(\"THEN INSERT (\")  \n",
        "\n",
        " for item in range(len(lst)):\n",
        "    print(lst[item].str.lower()+\",\")\n",
        "    if item == len(lst)-1:\n",
        "       print(lst[item].str.lower()+\",\")\n",
        " print(\")\") \n",
        " print(\"VALUES\")\n",
        " print(\")\")  \n",
        "  for item in range(len(lst)):\n",
        "    print(src+lst[item].str.upper()+\",\")\n",
        "    if item == len(lst)-1:\n",
        "       print(src+lst[item].str.upper()+\",\")\n",
        "print(\");\")\n",
        "print(\"UPDATE ECOI_ETL_LOGS SET END_DATE_TIME = GETDATE() WHERE TABLE_NAME = \"+\"'\"+destination_table_name+\"'\"+\";\")      \n",
        "\n",
        "\n",
        "print(\"/* End merge statement for \"+destination_table_nam+ \"*/\") \n",
        "\n"
      ],
      "metadata": {
        "colab": {
          "base_uri": "https://localhost:8080/"
        },
        "id": "N7xPaEJO70-G",
        "outputId": "fcd68d71-d09a-4269-da3f-dd4d5c36a696"
      },
      "execution_count": 3,
      "outputs": [
        {
          "output_type": "stream",
          "name": "stdout",
          "text": [
            "<file name=\"PRODUCT_TYPE_CD\" type=\"delimited\" src=\"Data/Input/SP/\" headersToSkip=\"1\" footersToSkip=\"0\" delimeter=\",\" mandatory=\"1\" headersToSkip=\"1\" recordLength=\"5000\">\n"
          ]
        }
      ]
    },
    {
      "cell_type": "code",
      "source": [],
      "metadata": {
        "colab": {
          "base_uri": "https://localhost:8080/"
        },
        "id": "8CByY5L1lNUS",
        "outputId": "2fc4a7ce-d7b0-4cac-a54c-20ed328b7901"
      },
      "execution_count": 36,
      "outputs": [
        {
          "output_type": "stream",
          "name": "stdout",
          "text": [
            "\n",
            "       </records>\n",
            "\t\t</input>\n",
            "\t\t</inputs>\n",
            "\t</file>\n",
            "\n"
          ]
        }
      ]
    },
    {
      "cell_type": "code",
      "execution_count": null,
      "metadata": {
        "id": "9WQoU3xsHMEI"
      },
      "outputs": [],
      "source": [
        "\n",
        "import csv\n",
        "\n",
        "with open('data.csv') as csv_file:\n",
        "\n",
        "    csv_reader = csv.reader(csv_file, delimiter = ',')\n",
        "\n",
        "    list_of_column_names = []\n",
        "\n",
        "    for row in csv_reader:\n",
        "\n",
        "        list_of_column_names.append(row)\n",
        "        break\n",
        "\n",
        "print(\"List of column names : \",\n",
        "      list_of_column_names[0])"
      ]
    }
  ]
}